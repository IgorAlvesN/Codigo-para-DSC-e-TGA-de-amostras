{
 "cells": [
  {
   "cell_type": "markdown",
   "metadata": {},
   "source": [
    "Importações"
   ]
  },
  {
   "cell_type": "code",
   "execution_count": null,
   "metadata": {},
   "outputs": [],
   "source": [
    "import pandas as pd\n",
    "import matplotlib.pyplot as plt\n",
    "import numpy as np\n",
    "from sklearn.linear_model import LinearRegression \n",
    "from app import func as f\n",
    "\n",
    "path_arquivo=\"\" #caminho do arquivo a ser consumido\n",
    "path_imagens=\"\" #caminho da pasta onde os gráficos serão salvos\n",
    "\n",
    "df=pd.read_csv(path_arquivo, encoding=\"utf-16\", header=0, delim_whitespace=True, index_col=0)\n",
    "\n",
    "df"
   ]
  },
  {
   "cell_type": "markdown",
   "metadata": {},
   "source": [
    "Regressão Linear para obter taxa de aquecimento\n"
   ]
  },
  {
   "cell_type": "code",
   "execution_count": null,
   "metadata": {},
   "outputs": [],
   "source": [
    "model = LinearRegression()\n",
    "x=np.array(df[\"Time(s)\"]).reshape(-1,1)\n",
    "y=np.array(df[\"Furnace_Temperature(°C)\"])\n",
    "\n",
    "model.fit(x,y)\n",
    "m=model.coef_[0]\n",
    "b=model.intercept_\n",
    "\n",
    "print(\"Taxa e aquecimento: %f\\nCoeficiente Linear: %f\" %(m,b))\n",
    "\n",
    "df[\"Derivada(Txt)\"]=f.derivada(df[\"Time(s)\"],df[\"Furnace_Temperature(°C)\"])\n"
   ]
  },
  {
   "cell_type": "markdown",
   "metadata": {},
   "source": [
    "Plot DTA e DTG"
   ]
  },
  {
   "cell_type": "code",
   "execution_count": null,
   "metadata": {},
   "outputs": [],
   "source": [
    "massaportemperatura=f.derivada(df[\"Sample_Temperature(°C)\"],df[\"TG(%)\"])\n",
    "df[\"Derivada(Mass,temp)\"]=massaportemperatura\n",
    "\n",
    "fig, ax1 = plt.subplots()\n",
    "\n",
    "color = 'tab:red'\n",
    "ax1.set_xlabel('Temperatura da Amostra (°C)')\n",
    "ax1.set_ylabel(\"Massa da Amostra (%)\", color=color)\n",
    "ax1.plot(df[\"Sample_Temperature(°C)\"],df[\"TG(%)\"], label=\"Dados do Aquecimento\",color=color)\n",
    "plt.title(\"Variação da massa com a temperatura\")\n",
    "\n",
    "ax1.tick_params(axis='y', labelcolor = color)\n",
    "\n",
    "ax2=ax1.twinx()\n",
    "\n",
    "color = 'tab:blue'\n",
    "ax2.set_ylabel('Derivada (%/°C)', color=color)\n",
    "ax2.plot(df[df[\"Time(s)\"]>115][\"Sample_Temperature(°C)\"],massaportemperatura[116:],color=color)\n",
    "ax2.tick_params(axis='y', labelcolor = color)\n",
    "\n",
    "fig.tight_layout()\n",
    "\n",
    "fig=plt.gcf()\n",
    "\n",
    "plt.show()\n",
    "\n",
    "fig.savefig(path_imagens+\"Variação da massa com a mudança da temperatura.png\")\n",
    "plt.close(fig)\n"
   ]
  },
  {
   "cell_type": "markdown",
   "metadata": {},
   "source": [
    "Minimos e Máximos locais"
   ]
  },
  {
   "cell_type": "code",
   "execution_count": null,
   "metadata": {},
   "outputs": [],
   "source": [
    "\n",
    "\n",
    "minimo_2=f.picolocal(df[\"Derivada(Mass,temp)\"],\"min\",351,900)\n",
    "\n",
    "#indice para limitar a busca pelo primeiro maximo\n",
    "indice_inflex_1=df.index[df[\"Derivada(Mass,temp)\"]==minimo_2].values[0]\n",
    "\n",
    "maximo_1=f.picolocal(df[\"Derivada(Mass,temp)\"],\"max\",600,indice_inflex_1-100)\n",
    "\n",
    "#indice para limitar a busca pelo primeiro minimo\n",
    "indice_max=df.index[df[\"Derivada(Mass,temp)\"]==maximo_1].values[0]\n",
    "\n",
    "minimo_1=f.picolocal(df[\"Derivada(Mass,temp)\"],\"min\",600,indice_max)\n",
    "\n",
    "\n",
    "minimo_3=f.picolocal(df[\"Derivada(Mass,temp)\"],\"min\",984,1500)\n",
    "\n",
    "minimo_5=f.picolocal(df[\"Derivada(Mass,temp)\"],\"min\",1100,5000)\n",
    "\n",
    "maximo_2=f.picolocal(df[\"Derivada(Mass,temp)\"],\"max\",4400,4700)\n",
    "\n",
    "\n",
    "minimo_4=f.picolocal(df[\"Derivada(Mass,temp)\"],\"min\",4200,4415)\n",
    "\n",
    "\n",
    "print(df[df[\"Derivada(Mass,temp)\"]==minimo_1][\"Sample_Temperature(°C)\"])\n",
    "print(df[df[\"Derivada(Mass,temp)\"]==maximo_1][\"Sample_Temperature(°C)\"])\n",
    "print(df[df[\"Derivada(Mass,temp)\"]==minimo_2][\"Sample_Temperature(°C)\"])\n",
    "print(df[df[\"Derivada(Mass,temp)\"]==minimo_3][\"Sample_Temperature(°C)\"])\n",
    "print(df[df[\"Derivada(Mass,temp)\"]==minimo_4][\"Sample_Temperature(°C)\"])\n",
    "print(df[df[\"Derivada(Mass,temp)\"]==maximo_2][\"Sample_Temperature(°C)\"])\n",
    "print(df[df[\"Derivada(Mass,temp)\"]==minimo_5][\"Sample_Temperature(°C)\"])"
   ]
  },
  {
   "cell_type": "markdown",
   "metadata": {},
   "source": [
    "Encontrando máximo e mínimo da derivada (pontos de inflexão) e reta tangente"
   ]
  },
  {
   "cell_type": "code",
   "execution_count": null,
   "metadata": {},
   "outputs": [],
   "source": [
    "#ponto de inflexão minimo 1\n",
    "T_inf1=df[df[\"Derivada(Mass,temp)\"]==minimo_1][\"Sample_Temperature(°C)\"].values[0]\n",
    "F_inf1=df[df[\"Derivada(Mass,temp)\"]==minimo_1][\"TG(%)\"].values[0]\n",
    "\n",
    "#ponto de inflexão minimo 2\n",
    "T_inf2=df[df[\"Derivada(Mass,temp)\"]==minimo_2][\"Sample_Temperature(°C)\"].values[0]\n",
    "F_inf2=df[df[\"Derivada(Mass,temp)\"]==minimo_2][\"TG(%)\"].values[0]\n",
    "\n",
    "#ponto de inflexão minimo 3\n",
    "\n",
    "T_inf3=df[df[\"Derivada(Mass,temp)\"]==minimo_3][\"Sample_Temperature(°C)\"].values[0]\n",
    "F_inf3=df[df[\"Derivada(Mass,temp)\"]==minimo_3][\"TG(%)\"].values[0]\n",
    "\n",
    "#ponto de inflexão minimo 4\n",
    "T_inf4=df[df[\"Derivada(Mass,temp)\"]==minimo_4][\"Sample_Temperature(°C)\"].values[0]\n",
    "F_inf4=df[df[\"Derivada(Mass,temp)\"]==minimo_4][\"TG(%)\"].values[0]\n",
    "\n",
    "#ponto de inflexão minimo 5\n",
    "T_inf5=df[df[\"Derivada(Mass,temp)\"]==minimo_5][\"Sample_Temperature(°C)\"].values[0]\n",
    "F_inf5=df[df[\"Derivada(Mass,temp)\"]==minimo_5][\"TG(%)\"].values[0]\n",
    "\n",
    "\n",
    "c_1=F_inf1-(minimo_1*T_inf1) #coeficiente linear da reta tangente 1\n",
    "c_2=F_inf2-(minimo_2*T_inf2) #coeficiente linear da reta tangente 2\n",
    "c_3=F_inf3-(minimo_3*T_inf3) #coeficiente linear da reta tangente 3\n",
    "c_4=F_inf4-(minimo_4*T_inf4) #coeficiente linear da reta tangente 4\n",
    "c_5=F_inf5-(minimo_5*T_inf5) #coeficiente linear da reta tangente 5"
   ]
  },
  {
   "cell_type": "markdown",
   "metadata": {},
   "source": [
    "Perda de massa em cada evento"
   ]
  },
  {
   "cell_type": "code",
   "execution_count": null,
   "metadata": {},
   "outputs": [],
   "source": [
    "#-----------------------------------\n",
    "\n",
    "#----------------------------------- Procedimento: encontre o indice da inflexão, capture a derivada e seu indice\n",
    "indice_inflex_1=df.index[df[\"Derivada(Mass,temp)\"]==minimo_1]\n",
    "T_base_set_1=f.linhabaseonset(df[\"Derivada(Mass,temp)\"],df[\"Sample_Temperature(°C)\"],indice_inflex_1)[0]\n",
    "indice_base_onset_1=f.linhabaseonset(df[\"Derivada(Mass,temp)\"],df[\"Sample_Temperature(°C)\"],indice_inflex_1)[1]\n",
    "\n",
    "#Tendset e seu indice para encontrar o Fluxo de Endset\n",
    "T_base_endset_1=f.linhabaseendset(df[\"Derivada(Mass,temp)\"],df[\"Sample_Temperature(°C)\"],indice_inflex_1)[0]\n",
    "indice_base_endset_1=f.linhabaseendset(df[\"Derivada(Mass,temp)\"],df[\"Sample_Temperature(°C)\"],indice_inflex_1)[1]\n",
    "\n",
    "evento1_massa_inicial=df.loc[indice_base_onset_1][\"TG(%)\"].values[0]\n",
    "evento1_massa_final=df.loc[indice_base_endset_1][\"TG(%)\"].values[0]\n",
    "\n",
    "perda1=evento1_massa_inicial - evento1_massa_final\n",
    "#-----------------------------------\n",
    "\n",
    "#-----------------------------------\n",
    "\n",
    "indice_inflex_2=df.index[df[\"Derivada(Mass,temp)\"]==minimo_3]\n",
    "T_base_set_2=f.linhabaseonset(df[\"Derivada(Mass,temp)\"],df[\"Sample_Temperature(°C)\"],indice_inflex_2)[0]\n",
    "indice_base_onset_2=f.linhabaseonset(df[\"Derivada(Mass,temp)\"],df[\"Sample_Temperature(°C)\"],indice_inflex_2)[1]\n",
    "\n",
    "#Tendset e seu indice para encontrar o Fluxo de Endset\n",
    "T_base_endset_2=f.linhabaseendset(df[\"Derivada(Mass,temp)\"],df[\"Sample_Temperature(°C)\"],indice_inflex_2)[0]\n",
    "indice_base_endset_2=f.linhabaseendset(df[\"Derivada(Mass,temp)\"],df[\"Sample_Temperature(°C)\"],indice_inflex_2)[1]\n",
    "\n",
    "evento2_massa_inicial=df.loc[indice_base_onset_2][\"TG(%)\"].values[0]\n",
    "evento2_massa_final=df.loc[indice_base_endset_2][\"TG(%)\"].values[0]\n",
    "\n",
    "perda2=evento2_massa_inicial - evento2_massa_final\n",
    "\n",
    "#-----------------------------------\n",
    "#-----------------------------------\n",
    "\n",
    "indice_inflex_3=df.index[df[\"Derivada(Mass,temp)\"]==minimo_4]\n",
    "T_base_set_3=f.linhabaseonset(df[\"Derivada(Mass,temp)\"],df[\"Sample_Temperature(°C)\"],indice_inflex_3)[0]\n",
    "indice_base_onset_3=f.linhabaseonset(df[\"Derivada(Mass,temp)\"],df[\"Sample_Temperature(°C)\"],indice_inflex_3)[1]\n",
    "\n",
    "#Tendset e seu indice para encontrar o Fluxo de Endset\n",
    "T_base_endset_3=f.linhabaseendset(df[\"Derivada(Mass,temp)\"],df[\"Sample_Temperature(°C)\"],indice_inflex_3,-0.2)[0]\n",
    "indice_base_endset_3=f.linhabaseendset(df[\"Derivada(Mass,temp)\"],df[\"Sample_Temperature(°C)\"],indice_inflex_3,-0.1)[1]\n",
    "\n",
    "evento3_massa_inicial=df.loc[indice_base_onset_3][\"TG(%)\"].values[0]\n",
    "evento3_massa_final=df.loc[indice_base_endset_3][\"TG(%)\"].values[0]\n",
    "\n",
    "perda3=evento3_massa_inicial - evento3_massa_final\n",
    "\n",
    "print(\"Perda de de massa no evento 1: %f %%\" %perda1)\n",
    "print(\"Perda de de massa no evento 2: %f %%\" %perda2)\n",
    "print(\"Perda de de massa no evento 3: %f %%\" %perda3)"
   ]
  },
  {
   "cell_type": "markdown",
   "metadata": {},
   "source": [
    "Tinicio, Tonset, Tendset, Tfinal e Tpico"
   ]
  },
  {
   "cell_type": "code",
   "execution_count": null,
   "metadata": {},
   "outputs": [],
   "source": [
    "T_onset_ev1=(evento1_massa_inicial-c_1)/minimo_1\n",
    "T_onset_ev2=(evento2_massa_inicial-c_3)/minimo_3\n",
    "T_onset_ev3=(evento3_massa_inicial-c_4)/minimo_4\n",
    "\n",
    "T_endset_ev1=(evento1_massa_final-c_2)/minimo_2\n",
    "T_endset_ev2=(evento2_massa_final-c_3)/minimo_3\n",
    "T_endset_ev3=(evento3_massa_final-c_5)/minimo_5\n",
    "\n",
    "print(\"*** Evento 1 ***\\n\")\n",
    "print(\"Temperatura de início: %f °C\\n\"%T_base_set_1.values[0]+\"Temperatura de onset: %f °C\\n\"%T_onset_ev1+\"Temperatura de pico: %F °C\\n\"%T_inf2+\"Temperatura de endset: %f °C\\n\"%T_endset_ev1+\"Temperatura final: %f °C\\n\"%T_base_endset_1.values[0])\n",
    "print(\"*** Evento 2 ***\\n\")\n",
    "print(\"Temperatura de início: %f °C\\n\"%T_base_set_2.values[0]+\"Temperatura de onset: %f °C\\n\"%T_onset_ev2+\"Temperatura de pico: %F °C\\n\"%T_inf3+\"Temperatura de endset: %f °C\\n\"%T_endset_ev2+\"Temperatura final: %f °C\\n\"%T_base_endset_2.values[0])\n",
    "\n",
    "print(\"*** Evento 3 ***\\n\")\n",
    "print(\"Temperatura de início: %f °C\\n\"%T_base_set_3.values[0]+\"Temperatura de onset: %f °C\\n\"%T_onset_ev3+\"Temperatura de pico: %F °C\\n\"%T_inf5+\"Temperatura de endset: %f °C\\n\"%T_endset_ev3+\"Temperatura final: %f °C\\n\"%T_base_endset_3.values[0])\n"
   ]
  }
 ],
 "metadata": {
  "kernelspec": {
   "display_name": "Python 3",
   "language": "python",
   "name": "python3"
  },
  "language_info": {
   "codemirror_mode": {
    "name": "ipython",
    "version": 3
   },
   "file_extension": ".py",
   "mimetype": "text/x-python",
   "name": "python",
   "nbconvert_exporter": "python",
   "pygments_lexer": "ipython3",
   "version": "3.12.4"
  }
 },
 "nbformat": 4,
 "nbformat_minor": 2
}
