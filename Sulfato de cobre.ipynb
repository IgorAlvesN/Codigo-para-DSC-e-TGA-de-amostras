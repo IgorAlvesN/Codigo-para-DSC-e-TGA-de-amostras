{
 "cells": [
  {
   "cell_type": "markdown",
   "metadata": {},
   "source": [
    "Importações"
   ]
  },
  {
   "cell_type": "code",
   "execution_count": null,
   "metadata": {},
   "outputs": [],
   "source": [
    "import pandas as pd\n",
    "import matplotlib.pyplot as plt\n",
    "import numpy as np\n",
    "from sklearn.linear_model import LinearRegression \n",
    "from app import func as f\n",
    "\n",
    "path_arquivo=\"\" #caminho do arquivo a ser consumido, incluindo o nome do mesmo\n",
    "\n",
    "df=pd.read_csv(path_arquivo, encoding=\"utf-16\", header=0, delim_whitespace=True, index_col=0)\n",
    "\n",
    "df"
   ]
  },
  {
   "cell_type": "markdown",
   "metadata": {},
   "source": [
    "Regressão Linear para obter taxa de aquecimento\n"
   ]
  },
  {
   "cell_type": "code",
   "execution_count": null,
   "metadata": {},
   "outputs": [],
   "source": [
    "model = LinearRegression()\n",
    "x=np.array(df[\"Time(s)\"]).reshape(-1,1)\n",
    "y=np.array(df[\"Furnace_Temperature(°C)\"])\n",
    "\n",
    "model.fit(x,y)\n",
    "m=model.coef_[0]\n",
    "b=model.intercept_\n",
    "\n",
    "with open(\"Outputs/Dados Coletados - Sulfato de Cobre.txt\", \"w\", encoding='utf-8') as arquivo:\n",
    "    arquivo.write(\"Taxa de aquecimento: %f\\nCoeficiente Linear: %f\\n\" %(m,b))\n",
    "\n",
    "df[\"Derivada(Txt)\"]=f.derivada(df[\"Time(s)\"],df[\"Furnace_Temperature(°C)\"])\n"
   ]
  },
  {
   "cell_type": "markdown",
   "metadata": {},
   "source": [
    "Plot DTA e DTG"
   ]
  },
  {
   "cell_type": "code",
   "execution_count": null,
   "metadata": {},
   "outputs": [],
   "source": [
    "massaportemperatura=f.derivada(df[\"Sample_Temperature(°C)\"],df[\"TG(%)\"])\n",
    "df[\"Derivada(Mass,temp)\"]=massaportemperatura\n",
    "\n",
    "fig, ax1 = plt.subplots()\n",
    "\n",
    "color = 'tab:red'\n",
    "ax1.set_xlabel('Temperatura da Amostra (°C)')\n",
    "ax1.set_ylabel(\"Massa da Amostra (%)\", color=color)\n",
    "ax1.plot(df[\"Sample_Temperature(°C)\"],df[\"TG(%)\"], label=\"Dados do Aquecimento\",color=color)\n",
    "plt.title(\"Variação da massa com a temperatura\")\n",
    "\n",
    "ax1.tick_params(axis='y', labelcolor = color)\n",
    "\n",
    "ax2=ax1.twinx()\n",
    "\n",
    "color = 'tab:blue'\n",
    "ax2.set_ylabel('Derivada (%/°C)', color=color)\n",
    "\n",
    "#limite inferior adicionado para eliminar o ruído no início do gráfico\n",
    "ax2.plot(df[df[\"Time(s)\"]>115][\"Sample_Temperature(°C)\"],massaportemperatura[116:],color=color)\n",
    "ax2.tick_params(axis='y', labelcolor = color)\n",
    "\n",
    "fig.tight_layout()\n",
    "\n",
    "fig=plt.gcf()\n",
    "\n",
    "plt.show()\n",
    "\n",
    "fig.savefig(\"Outputs/Variação da massa com a mudança da temperatura.png\")\n",
    "plt.close(fig)\n"
   ]
  },
  {
   "cell_type": "markdown",
   "metadata": {},
   "source": [
    "Minimos e Máximos locais"
   ]
  },
  {
   "cell_type": "code",
   "execution_count": null,
   "metadata": {},
   "outputs": [],
   "source": [
    "#Com o gráfico em mão, é possível ver a localização aproximada dos picos. Esse trecho do código é específico para cada caso de estudo.\n",
    "#O procedimento \"geral\" é colocar o tipo de pico (\"max\" ou \"min\") e o intervalo onde ele se encontra (visível no gráfico).\n",
    "\n",
    "minimo_2=f.picolocal(df[\"Derivada(Mass,temp)\"],\"min\",351,900)\n",
    "\n",
    "#indice para limitar a busca pelo primeiro maximo\n",
    "indice_inflex_1=df.index[df[\"Derivada(Mass,temp)\"]==minimo_2].values[0]\n",
    "\n",
    "maximo_1=f.picolocal(df[\"Derivada(Mass,temp)\"],\"max\",600,indice_inflex_1-100)\n",
    "\n",
    "#indice para limitar a busca pelo primeiro minimo\n",
    "indice_max=df.index[df[\"Derivada(Mass,temp)\"]==maximo_1].values[0]\n",
    "\n",
    "minimo_1=f.picolocal(df[\"Derivada(Mass,temp)\"],\"min\",600,indice_max)\n",
    "\n",
    "\n",
    "minimo_3=f.picolocal(df[\"Derivada(Mass,temp)\"],\"min\",984,1500)\n",
    "\n",
    "minimo_5=f.picolocal(df[\"Derivada(Mass,temp)\"],\"min\",1100,5000)\n",
    "\n",
    "maximo_2=f.picolocal(df[\"Derivada(Mass,temp)\"],\"max\",4400,4700)\n",
    "\n",
    "\n",
    "minimo_4=f.picolocal(df[\"Derivada(Mass,temp)\"],\"min\",4200,4415)\n",
    "\n",
    "\n",
    "print(df[df[\"Derivada(Mass,temp)\"]==minimo_1][\"Sample_Temperature(°C)\"])\n",
    "print(df[df[\"Derivada(Mass,temp)\"]==maximo_1][\"Sample_Temperature(°C)\"])\n",
    "print(df[df[\"Derivada(Mass,temp)\"]==minimo_2][\"Sample_Temperature(°C)\"])\n",
    "print(df[df[\"Derivada(Mass,temp)\"]==minimo_3][\"Sample_Temperature(°C)\"])\n",
    "print(df[df[\"Derivada(Mass,temp)\"]==minimo_4][\"Sample_Temperature(°C)\"])\n",
    "print(df[df[\"Derivada(Mass,temp)\"]==maximo_2][\"Sample_Temperature(°C)\"])\n",
    "print(df[df[\"Derivada(Mass,temp)\"]==minimo_5][\"Sample_Temperature(°C)\"])"
   ]
  },
  {
   "cell_type": "markdown",
   "metadata": {},
   "source": [
    "Encontrando máximo e mínimo da derivada (pontos de inflexão) e reta tangente"
   ]
  },
  {
   "cell_type": "code",
   "execution_count": null,
   "metadata": {},
   "outputs": [],
   "source": [
    "#ponto de inflexão minimo 1\n",
    "T_inf1=df[df[\"Derivada(Mass,temp)\"]==minimo_1][\"Sample_Temperature(°C)\"].values[0]\n",
    "F_inf1=df[df[\"Derivada(Mass,temp)\"]==minimo_1][\"TG(%)\"].values[0]\n",
    "\n",
    "#ponto de inflexão minimo 2\n",
    "T_inf2=df[df[\"Derivada(Mass,temp)\"]==minimo_2][\"Sample_Temperature(°C)\"].values[0]\n",
    "F_inf2=df[df[\"Derivada(Mass,temp)\"]==minimo_2][\"TG(%)\"].values[0]\n",
    "\n",
    "#ponto de inflexão minimo 3\n",
    "\n",
    "T_inf3=df[df[\"Derivada(Mass,temp)\"]==minimo_3][\"Sample_Temperature(°C)\"].values[0]\n",
    "F_inf3=df[df[\"Derivada(Mass,temp)\"]==minimo_3][\"TG(%)\"].values[0]\n",
    "\n",
    "#ponto de inflexão minimo 4\n",
    "T_inf4=df[df[\"Derivada(Mass,temp)\"]==minimo_4][\"Sample_Temperature(°C)\"].values[0]\n",
    "F_inf4=df[df[\"Derivada(Mass,temp)\"]==minimo_4][\"TG(%)\"].values[0]\n",
    "\n",
    "#ponto de inflexão minimo 5\n",
    "T_inf5=df[df[\"Derivada(Mass,temp)\"]==minimo_5][\"Sample_Temperature(°C)\"].values[0]\n",
    "F_inf5=df[df[\"Derivada(Mass,temp)\"]==minimo_5][\"TG(%)\"].values[0]\n",
    "\n",
    "\n",
    "c_1=F_inf1-(minimo_1*T_inf1) #coeficiente linear da reta tangente 1\n",
    "c_2=F_inf2-(minimo_2*T_inf2) #coeficiente linear da reta tangente 2\n",
    "c_3=F_inf3-(minimo_3*T_inf3) #coeficiente linear da reta tangente 3\n",
    "c_4=F_inf4-(minimo_4*T_inf4) #coeficiente linear da reta tangente 4\n",
    "c_5=F_inf5-(minimo_5*T_inf5) #coeficiente linear da reta tangente 5"
   ]
  },
  {
   "cell_type": "markdown",
   "metadata": {},
   "source": [
    "Perda de massa em cada evento"
   ]
  },
  {
   "cell_type": "code",
   "execution_count": null,
   "metadata": {},
   "outputs": [],
   "source": [
    "#Essa parte também depende de cada caso. O procedimento \"geral\" é a partir das inflexões encontradas para cada evento, determinar as linhas de base (onset e endset).\n",
    "\n",
    "#-----------------------------------\n",
    "\n",
    "#----------------------------------- Procedimento: encontre o indice da inflexão, capture a derivada e seu indice\n",
    "indice_inflex_1=df.index[df[\"Derivada(Mass,temp)\"]==minimo_1]                                                       #indice do ponto de inflexão para limitar o intervalo de busca\n",
    "T_base_set_1=f.linhabaseonset(df[\"Derivada(Mass,temp)\"],df[\"Sample_Temperature(°C)\"],indice_inflex_1)[0]            #Pelo indice, encontra ao redor a ultima temperatura na linha de base\n",
    "indice_base_onset_1=f.linhabaseonset(df[\"Derivada(Mass,temp)\"],df[\"Sample_Temperature(°C)\"],indice_inflex_1)[1]     #e seu valor de fluxo\n",
    "\n",
    "#Tendset e seu indice para encontrar o Fluxo de Endset\n",
    "T_base_endset_1=f.linhabaseendset(df[\"Derivada(Mass,temp)\"],df[\"Sample_Temperature(°C)\"],indice_inflex_1)[0]\n",
    "indice_base_endset_1=f.linhabaseendset(df[\"Derivada(Mass,temp)\"],df[\"Sample_Temperature(°C)\"],indice_inflex_1)[1]\n",
    "\n",
    "evento1_massa_inicial=df.loc[indice_base_onset_1][\"TG(%)\"].values[0]\n",
    "evento1_massa_final=df.loc[indice_base_endset_1][\"TG(%)\"].values[0]\n",
    "\n",
    "perda1=evento1_massa_inicial - evento1_massa_final\n",
    "\n",
    "#A perda de massa de cada evento é dada pela diferença entre a massa inicial (massa no onset) e a massa final (massa no endset).\n",
    "#-----------------------------------\n",
    "\n",
    "#-----------------------------------\n",
    "\n",
    "indice_inflex_2=df.index[df[\"Derivada(Mass,temp)\"]==minimo_3]\n",
    "T_base_set_2=f.linhabaseonset(df[\"Derivada(Mass,temp)\"],df[\"Sample_Temperature(°C)\"],indice_inflex_2)[0]\n",
    "indice_base_onset_2=f.linhabaseonset(df[\"Derivada(Mass,temp)\"],df[\"Sample_Temperature(°C)\"],indice_inflex_2)[1]\n",
    "\n",
    "#Tendset e seu indice para encontrar o Fluxo de Endset\n",
    "T_base_endset_2=f.linhabaseendset(df[\"Derivada(Mass,temp)\"],df[\"Sample_Temperature(°C)\"],indice_inflex_2)[0]\n",
    "indice_base_endset_2=f.linhabaseendset(df[\"Derivada(Mass,temp)\"],df[\"Sample_Temperature(°C)\"],indice_inflex_2)[1]\n",
    "\n",
    "evento2_massa_inicial=df.loc[indice_base_onset_2][\"TG(%)\"].values[0]\n",
    "evento2_massa_final=df.loc[indice_base_endset_2][\"TG(%)\"].values[0]\n",
    "\n",
    "perda2=evento2_massa_inicial - evento2_massa_final\n",
    "\n",
    "#-----------------------------------\n",
    "#-----------------------------------\n",
    "\n",
    "indice_inflex_3=df.index[df[\"Derivada(Mass,temp)\"]==minimo_4]\n",
    "T_base_set_3=f.linhabaseonset(df[\"Derivada(Mass,temp)\"],df[\"Sample_Temperature(°C)\"],indice_inflex_3)[0]\n",
    "indice_base_onset_3=f.linhabaseonset(df[\"Derivada(Mass,temp)\"],df[\"Sample_Temperature(°C)\"],indice_inflex_3)[1]\n",
    "\n",
    "#Tendset e seu indice para encontrar o Fluxo de Endset\n",
    "T_base_endset_3=f.linhabaseendset(df[\"Derivada(Mass,temp)\"],df[\"Sample_Temperature(°C)\"],indice_inflex_3,-0.2)[0]\n",
    "indice_base_endset_3=f.linhabaseendset(df[\"Derivada(Mass,temp)\"],df[\"Sample_Temperature(°C)\"],indice_inflex_3,-0.1)[1]\n",
    "\n",
    "evento3_massa_inicial=df.loc[indice_base_onset_3][\"TG(%)\"].values[0]\n",
    "evento3_massa_final=df.loc[indice_base_endset_3][\"TG(%)\"].values[0]\n",
    "\n",
    "perda3=evento3_massa_inicial - evento3_massa_final\n",
    "\n",
    "with open(\"Outputs/Dados Coletados - Sulfato de Cobre.txt\", \"a\", encoding='utf-8') as arquivo:\n",
    "    arquivo.write(\"Perda de de massa no evento 1: %f %%\\nPerda de de massa no evento 2: %f %%\\nPerda de de massa no evento 3: %f %%\\n\" %(perda1,perda2,perda3))"
   ]
  },
  {
   "cell_type": "markdown",
   "metadata": {},
   "source": [
    "Tinicio, Tonset, Tendset, Tfinal e Tpico"
   ]
  },
  {
   "cell_type": "code",
   "execution_count": null,
   "metadata": {},
   "outputs": [],
   "source": [
    "#As temperaturas de início (Tonset) e fim (Tendset) são justamente os pontos das linhas de base.\n",
    "#Consideramos como temperatura de onset e endset os pontos de interseção entre as linhas de base e as retas tangentes nos pontos de inflexão\n",
    "\n",
    "T_onset_ev1=(evento1_massa_inicial-c_1)/minimo_1\n",
    "T_onset_ev2=(evento2_massa_inicial-c_3)/minimo_3\n",
    "T_onset_ev3=(evento3_massa_inicial-c_4)/minimo_4\n",
    "\n",
    "T_endset_ev1=(evento1_massa_final-c_2)/minimo_2\n",
    "T_endset_ev2=(evento2_massa_final-c_3)/minimo_3\n",
    "T_endset_ev3=(evento3_massa_final-c_5)/minimo_5\n",
    "\n",
    "with open(\"Outputs/Dados Coletados - Sulfato de Cobre.txt\", \"a\", encoding='utf-8') as arquivo:\n",
    "    arquivo.write(\"*** Evento 1 ***\\nTemperatura de início: %f °C\\nTemperatura de onset: %f °C\\nTemperatura de pico: %F °C\\nTemperatura de endset: %f °C\\nTemperatura final: %f °C\\n\\n\" %(T_base_set_1.values[0],T_onset_ev1,T_inf2,T_endset_ev1,T_base_endset_1.values[0]))\n",
    "    arquivo.write(\"*** Evento 2 ***\\nTemperatura de início: %f °C\\nTemperatura de onset: %f °C\\nTemperatura de pico: %F °C\\nTemperatura de endset: %f °C\\nTemperatura final: %f °C\\n\\n\" %(T_base_set_2.values[0],T_onset_ev2,T_inf3,T_endset_ev2,T_base_endset_2.values[0]))\n",
    "    arquivo.write(\"*** Evento 3 ***\\nTemperatura de início: %f °C\\nTemperatura de onset: %f °C\\nTemperatura de pico: %F °C\\nTemperatura de endset: %f °C\\nTemperatura final: %f °C\\n\" %(T_base_set_3.values[0],T_onset_ev3,T_inf5,T_endset_ev3,T_base_endset_3.values[0]))\n"
   ]
  }
 ],
 "metadata": {
  "kernelspec": {
   "display_name": "Python 3",
   "language": "python",
   "name": "python3"
  },
  "language_info": {
   "codemirror_mode": {
    "name": "ipython",
    "version": 3
   },
   "file_extension": ".py",
   "mimetype": "text/x-python",
   "name": "python",
   "nbconvert_exporter": "python",
   "pygments_lexer": "ipython3",
   "version": "3.12.4"
  }
 },
 "nbformat": 4,
 "nbformat_minor": 2
}
