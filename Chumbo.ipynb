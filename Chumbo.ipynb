{
 "cells": [
  {
   "cell_type": "markdown",
   "metadata": {},
   "source": [
    "Importação dos pacotes"
   ]
  },
  {
   "cell_type": "code",
   "execution_count": null,
   "metadata": {},
   "outputs": [],
   "source": [
    "import pandas as pd\n",
    "import matplotlib.pyplot as plt\n",
    "import numpy as np\n",
    "from sklearn.linear_model import LinearRegression \n",
    "from app import func as f\n",
    "\n",
    "path_arquivo=\"\" #caminho do arquivo a ser consumido\n",
    "path_imagens=\"\" #caminho da pasta onde os gráficos serão salvos\n",
    "\n",
    "\n",
    "df=pd.read_csv(path_arquivo, encoding=\"utf-16\", header=0, delim_whitespace=True, index_col=0)\n",
    "df['Dif']=df['Baseline(µV)']-df['HeatFlow(µV)']\n",
    "\n",
    "df"
   ]
  },
  {
   "cell_type": "markdown",
   "metadata": {},
   "source": [
    "Regressão Linear para obter taxa de aquecimento\n"
   ]
  },
  {
   "cell_type": "code",
   "execution_count": null,
   "metadata": {},
   "outputs": [],
   "source": [
    "model = LinearRegression()\n",
    "x=np.array(df[\"Time(s)\"]).reshape(-1,1)\n",
    "y=np.array(df[\"Furnace_Temperature(°C)\"])\n",
    "\n",
    "model.fit(x,y)\n",
    "m=model.coef_[0]\n",
    "b=model.intercept_\n",
    "\n",
    "print(\"Taxa e aquecimento: %f\\nCoeficiente Linear: %f\" %(m,b))\n",
    "\n",
    "\n",
    "df[\"Derivada(Txt)\"]=f.derivada(df[\"Time(s)\"],df[\"Furnace_Temperature(°C)\"])\n"
   ]
  },
  {
   "cell_type": "markdown",
   "metadata": {},
   "source": [
    "Temperatura de pico"
   ]
  },
  {
   "cell_type": "code",
   "execution_count": null,
   "metadata": {},
   "outputs": [],
   "source": [
    "pico=df[\"Dif\"].max()\n",
    "\n",
    "indice_pico=df.index[df[\"Dif\"]==pico]\n",
    "\n",
    "Tpico=df.loc[indice_pico][\"Sample_Temperature(°C)\"].values[0]\n"
   ]
  },
  {
   "cell_type": "markdown",
   "metadata": {},
   "source": [
    "Plot Fluxo por Temperatura e Derivada"
   ]
  },
  {
   "cell_type": "code",
   "execution_count": null,
   "metadata": {},
   "outputs": [],
   "source": [
    "fluxoportemperatura=f.derivada(df[\"Sample_Temperature(°C)\"],df[\"HeatFlow(µV)\"])\n",
    "\n",
    "fig, ax1 = plt.subplots()\n",
    "\n",
    "color = 'tab:red'\n",
    "ax1.set_xlabel('Temperatura da Amostra (°C)')\n",
    "ax1.set_ylabel('Fluxo de calor (µV)', color=color)\n",
    "ax1.plot(df[\"Sample_Temperature(°C)\"],df[\"HeatFlow(µV)\"], label=\"Dados do Aquecimento\",color=color)\n",
    "ax1.tick_params(axis='y', labelcolor = color)\n",
    "\n",
    "ax2=ax1.twinx()\n",
    "\n",
    "color = 'tab:blue'\n",
    "ax2.set_ylabel('Derivada (µV/°C)', color=color)\n",
    "ax2.plot(df[df[\"Time(s)\"]>200][\"Sample_Temperature(°C)\"],fluxoportemperatura[201:],color=color)\n",
    "ax2.tick_params(axis='y', labelcolor = color)\n",
    "\n",
    "fig.tight_layout()\n",
    "\n",
    "fig=plt.gcf()\n",
    "\n",
    "plt.show()\n",
    "\n",
    "fig.savefig(path_imagens+\"Fluxo de calor por Temperatura\")\n",
    "plt.close(fig)"
   ]
  },
  {
   "cell_type": "markdown",
   "metadata": {},
   "source": [
    "Encontrando máximo e mínimo da derivada (pontos de inflexão) e reta tangente"
   ]
  },
  {
   "cell_type": "code",
   "execution_count": null,
   "metadata": {},
   "outputs": [],
   "source": [
    "df[\"Derivada(Flux,TempAmos)\"]=fluxoportemperatura\n",
    "\n",
    "maximo=df[df[\"Time(s)\"]>200][\"Derivada(Flux,TempAmos)\"].max()\n",
    "minimo=df[df[\"Time(s)\"]>200][\"Derivada(Flux,TempAmos)\"].min()\n",
    "\n",
    "#ponto de inflexão onset\n",
    "T_inf1=df[df[\"Derivada(Flux,TempAmos)\"]==minimo][\"Sample_Temperature(°C)\"].values[0]\n",
    "F_inf1=df[df[\"Derivada(Flux,TempAmos)\"]==minimo][\"HeatFlow(µV)\"].values[0]\n",
    "\n",
    "#ponto de inflexão endset\n",
    "T_inf2=df[df[\"Derivada(Flux,TempAmos)\"]==maximo][\"Sample_Temperature(°C)\"].values[0]\n",
    "F_inf2=df[df[\"Derivada(Flux,TempAmos)\"]==maximo][\"HeatFlow(µV)\"].values[0]\n",
    "\n",
    "c_inf1=F_inf1-(minimo*T_inf1) #coeficiente linear da reta tangente de onset\n",
    "c_inf2=F_inf2-(maximo*T_inf2) #coeficiente linear da reta tangente de endset"
   ]
  },
  {
   "cell_type": "markdown",
   "metadata": {},
   "source": [
    "Encontrar a linha de base pré e pós evento"
   ]
  },
  {
   "cell_type": "code",
   "execution_count": null,
   "metadata": {},
   "outputs": [],
   "source": [
    "#Achar a linha de base a partir das inflexões das derivadas\n",
    "indice_inflex_1=df.index[df[\"Sample_Temperature(°C)\"]==T_inf1]                                                  #indice do ponto de inflexão para limitar o intervalo de busca\n",
    "T_base_set=f.linhabaseonset(df[\"Derivada(Flux,TempAmos)\"],df[\"Sample_Temperature(°C)\"],indice_inflex_1)[0]        #Pelo indice, encontra ao redor a ultima temperatura  na linha de base \n",
    "indice_base_set=f.linhabaseonset(df[\"Derivada(Flux,TempAmos)\"],df[\"Sample_Temperature(°C)\"],indice_inflex_1)[1]        #e seu valor\n",
    "\n",
    "#Tendset e seu indice para encontrar o Fluxo de Endset\n",
    "indice_inflex_2=df.index[df[\"Sample_Temperature(°C)\"]==T_inf2]                                                  #indice do ponto de inflexão para limitar o intervalo de busca\n",
    "T_base_endset=f.linhabaseendset(df[\"Derivada(Flux,TempAmos)\"],df[\"Sample_Temperature(°C)\"],indice_inflex_2)[0]    #Pelo indice, encontra ao redor a primeira temperatura  na linha de base \n",
    "indice_base_endset=f.linhabaseendset(df[\"Derivada(Flux,TempAmos)\"],df[\"Sample_Temperature(°C)\"],indice_inflex_2)[1]       #e seu valor"
   ]
  },
  {
   "cell_type": "markdown",
   "metadata": {},
   "source": [
    "Tinicio, Tonset, Tendset, Tfinal e Tpico"
   ]
  },
  {
   "cell_type": "code",
   "execution_count": null,
   "metadata": {},
   "outputs": [],
   "source": [
    "Intersec_set=df.loc[indice_base_set][\"HeatFlow(µV)\"].values[0]\n",
    "Intersec_end=df.loc[indice_base_endset][\"HeatFlow(µV)\"].values[0]\n",
    "\n",
    "Tonset=(Intersec_set-c_inf1)/minimo\n",
    "Tendset=(Intersec_set-c_inf2)/maximo\n",
    "\n",
    "print(\"Temperatura de início: %f °C\"%T_base_set.values[0])\n",
    "print(\"Temperatura de onset: %f °C\" %Tonset)\n",
    "print(\"Temperatura de pico: %f °C\" %Tpico)\n",
    "print(\"Temperatura de endset: %f °C\" %Tendset)\n",
    "print(\"Temperatura final: %f °C\"%T_base_endset.values[0])"
   ]
  },
  {
   "cell_type": "markdown",
   "metadata": {},
   "source": [
    "DSC x Tempo"
   ]
  },
  {
   "cell_type": "code",
   "execution_count": null,
   "metadata": {},
   "outputs": [],
   "source": [
    "plt.plot(df[\"Time(s)\"],df[\"Dif\"], label=\"Dados do Aquecimento\",color=\"red\")\n",
    "plt.xlabel(\"Tempo (s)\")\n",
    "plt.ylabel(\"Diferença de fluxo (µV)\")\n",
    "plt.title(\"Diferença de fluxo entre amostra e referência em função da temperatura\")\n",
    "\n",
    "fig=plt.gcf()\n",
    "\n",
    "plt.show()\n",
    "\n",
    "fig.savefig(path_imagens+\"Diferença de Fluxo entre a baseline e a amostra\")\n",
    "plt.close(fig)\n"
   ]
  },
  {
   "cell_type": "markdown",
   "metadata": {},
   "source": [
    "Cálculo da Entalpia"
   ]
  },
  {
   "cell_type": "code",
   "execution_count": null,
   "metadata": {},
   "outputs": [],
   "source": [
    "area=sum(f.integral(df[\"Time(s)\"],df[\"Dif\"]))\n",
    "\n",
    "K=248\n",
    "\n",
    "m=30.2*10**(-3)\n",
    "\n",
    "H=area/(m*K)\n",
    "\n",
    "print(\"Entalpia da reação: %f J/g\"%H)"
   ]
  }
 ],
 "metadata": {
  "kernelspec": {
   "display_name": "Python 3",
   "language": "python",
   "name": "python3"
  },
  "language_info": {
   "codemirror_mode": {
    "name": "ipython",
    "version": 3
   },
   "file_extension": ".py",
   "mimetype": "text/x-python",
   "name": "python",
   "nbconvert_exporter": "python",
   "pygments_lexer": "ipython3",
   "version": "3.12.4"
  }
 },
 "nbformat": 4,
 "nbformat_minor": 2
}
