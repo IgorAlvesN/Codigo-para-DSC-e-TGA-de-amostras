{
 "cells": [
  {
   "cell_type": "markdown",
   "metadata": {},
   "source": [
    "Importação dos pacotes"
   ]
  },
  {
   "cell_type": "code",
   "execution_count": null,
   "metadata": {},
   "outputs": [],
   "source": [
    "import pandas as pd\n",
    "import matplotlib.pyplot as plt\n",
    "import numpy as np\n",
    "from sklearn.linear_model import LinearRegression \n",
    "from app import func as f\n",
    "\n",
    "path_arquivo=\"\" #Adicionar o caminho do arquivo a ser consumido, incluindo o nome do mesmo\n",
    "\n",
    "df=pd.read_csv(path_arquivo, encoding=\"utf-16\", header=0, delim_whitespace=True, index_col=0)\n",
    "df['Dif']=df['Baseline(µV)']-df['HeatFlow(µV)']\n",
    "\n",
    "df"
   ]
  },
  {
   "cell_type": "markdown",
   "metadata": {},
   "source": [
    "Regressão Linear para obter taxa de aquecimento\n"
   ]
  },
  {
   "cell_type": "code",
   "execution_count": null,
   "metadata": {},
   "outputs": [],
   "source": [
    "model = LinearRegression()\n",
    "x=np.array(df[\"Time(s)\"]).reshape(-1,1)\n",
    "y=np.array(df[\"Furnace_Temperature(°C)\"])\n",
    "\n",
    "model.fit(x,y)\n",
    "m=model.coef_[0]\n",
    "b=model.intercept_\n",
    "\n",
    "with open(\"Outputs/Dados Coletados - Chumbo.txt\", \"w\", encoding='utf-8') as arquivo:\n",
    "    arquivo.write(\"Taxa de aquecimento: %f\\nCoeficiente Linear: %f\\n\" %(m,b))\n",
    "\n",
    "df[\"Derivada(Txt)\"]=f.derivada(df[\"Time(s)\"],df[\"Furnace_Temperature(°C)\"])\n"
   ]
  },
  {
   "cell_type": "markdown",
   "metadata": {},
   "source": [
    "Temperatura de pico"
   ]
  },
  {
   "cell_type": "code",
   "execution_count": null,
   "metadata": {},
   "outputs": [],
   "source": [
    "pico=df[\"Dif\"].max()\n",
    "\n",
    "indice_pico=df.index[df[\"Dif\"]==pico]\n",
    "\n",
    "Tpico=df.loc[indice_pico][\"Sample_Temperature(°C)\"].values[0]\n"
   ]
  },
  {
   "cell_type": "markdown",
   "metadata": {},
   "source": [
    "Plot Fluxo por Temperatura e Derivada"
   ]
  },
  {
   "cell_type": "code",
   "execution_count": null,
   "metadata": {},
   "outputs": [],
   "source": [
    "#Variação do fluxo em relação à temperatura da amostra\n",
    "fluxoportemperatura=f.derivada(df[\"Sample_Temperature(°C)\"],df[\"HeatFlow(µV)\"])\n",
    "\n",
    "fig, ax1 = plt.subplots()\n",
    "\n",
    "color = 'tab:red'\n",
    "ax1.set_xlabel('Temperatura da Amostra (°C)')\n",
    "ax1.set_ylabel('Fluxo de calor (µV)', color=color)\n",
    "ax1.plot(df[\"Sample_Temperature(°C)\"],df[\"HeatFlow(µV)\"], label=\"Dados do Aquecimento\",color=color)\n",
    "ax1.tick_params(axis='y', labelcolor = color)\n",
    "\n",
    "ax2=ax1.twinx()\n",
    "\n",
    "color = 'tab:blue'\n",
    "ax2.set_ylabel('Derivada (µV/°C)', color=color)\n",
    "\n",
    "#limite inferior adicionado para eliminar o ruído no início do gráfico\n",
    "ax2.plot(df[df[\"Time(s)\"]>200][\"Sample_Temperature(°C)\"],fluxoportemperatura[201:],color=color)\n",
    "ax2.tick_params(axis='y', labelcolor = color)\n",
    "\n",
    "fig.tight_layout()\n",
    "\n",
    "fig=plt.gcf()\n",
    "\n",
    "plt.show()\n",
    "\n",
    "fig.savefig(\"Outputs/Fluxo de calor por Temperatura\")\n",
    "plt.close(fig)"
   ]
  },
  {
   "cell_type": "markdown",
   "metadata": {},
   "source": [
    "Encontrando máximo e mínimo da derivada (pontos de inflexão) e reta tangente"
   ]
  },
  {
   "cell_type": "code",
   "execution_count": null,
   "metadata": {},
   "outputs": [],
   "source": [
    "df[\"Derivada(Flux,TempAmos)\"]=fluxoportemperatura\n",
    "\n",
    "#ponto máximo e mínimo da variação\n",
    "maximo=df[df[\"Time(s)\"]>200][\"Derivada(Flux,TempAmos)\"].max()\n",
    "minimo=df[df[\"Time(s)\"]>200][\"Derivada(Flux,TempAmos)\"].min()\n",
    "\n",
    "#ponto de inflexão onset (no gráfico, é visível que o onset é um ponto de mínimo)\n",
    "T_inf1=df[df[\"Derivada(Flux,TempAmos)\"]==minimo][\"Sample_Temperature(°C)\"].values[0]\n",
    "F_inf1=df[df[\"Derivada(Flux,TempAmos)\"]==minimo][\"HeatFlow(µV)\"].values[0]\n",
    "\n",
    "#ponto de inflexão endset (no gráfico, é visível que o onset é um ponto de máximo)\n",
    "T_inf2=df[df[\"Derivada(Flux,TempAmos)\"]==maximo][\"Sample_Temperature(°C)\"].values[0]\n",
    "F_inf2=df[df[\"Derivada(Flux,TempAmos)\"]==maximo][\"HeatFlow(µV)\"].values[0]\n",
    "\n",
    "c_inf1=F_inf1-(minimo*T_inf1) #coeficiente linear da reta tangente de onset\n",
    "c_inf2=F_inf2-(maximo*T_inf2) #coeficiente linear da reta tangente de endset"
   ]
  },
  {
   "cell_type": "markdown",
   "metadata": {},
   "source": [
    "Encontrar a linha de base pré e pós evento"
   ]
  },
  {
   "cell_type": "code",
   "execution_count": null,
   "metadata": {},
   "outputs": [],
   "source": [
    "#Achar a linha de base a partir das inflexões das derivadas\n",
    "indice_inflex_1=df.index[df[\"Sample_Temperature(°C)\"]==T_inf1]                                                  #indice do ponto de inflexão para limitar o intervalo de busca\n",
    "T_base_set=f.linhabaseonset(df[\"Derivada(Flux,TempAmos)\"],df[\"Sample_Temperature(°C)\"],indice_inflex_1)[0]        #Pelo indice, encontra ao redor a ultima temperatura na linha de base \n",
    "indice_base_set=f.linhabaseonset(df[\"Derivada(Flux,TempAmos)\"],df[\"Sample_Temperature(°C)\"],indice_inflex_1)[1]        #e seu valor de fluxo\n",
    "\n",
    "#Tendset e seu indice para encontrar o Fluxo de Endset\n",
    "indice_inflex_2=df.index[df[\"Sample_Temperature(°C)\"]==T_inf2]                                                  #indice do ponto de inflexão para limitar o intervalo de busca\n",
    "T_base_endset=f.linhabaseendset(df[\"Derivada(Flux,TempAmos)\"],df[\"Sample_Temperature(°C)\"],indice_inflex_2)[0]    #Pelo indice, encontra ao redor a primeira temperatura na linha de base \n",
    "indice_base_endset=f.linhabaseendset(df[\"Derivada(Flux,TempAmos)\"],df[\"Sample_Temperature(°C)\"],indice_inflex_2)[1]       #e seu valor de fluxo"
   ]
  },
  {
   "cell_type": "markdown",
   "metadata": {},
   "source": [
    "Tinicio, Tonset, Tendset, Tfinal e Tpico"
   ]
  },
  {
   "cell_type": "code",
   "execution_count": null,
   "metadata": {},
   "outputs": [],
   "source": [
    "#As temperaturas de início (Tonset) e fim (Tendset) são justamente os pontos das linhas de base.\n",
    "#Consideramos como temperatura de onset e endset os pontos de interseção entre as linhas de base e as retas tangentes nos pontos de inflexão\n",
    "\n",
    "Intersec_set=df.loc[indice_base_set][\"HeatFlow(µV)\"].values[0]\n",
    "Intersec_end=df.loc[indice_base_endset][\"HeatFlow(µV)\"].values[0]\n",
    "\n",
    "#Aqui encontramos a temperatura em que as linhas de base cruzam as retas tangentes aos pontos de inflexão\n",
    "Tonset=(Intersec_set-c_inf1)/minimo\n",
    "Tendset=(Intersec_set-c_inf2)/maximo\n",
    "\n",
    "with open(\"Outputs/Dados Coletados - Chumbo.txt\", \"a\", encoding='utf-8') as arquivo:\n",
    "    arquivo.write(\"Temperatura de início: %f °C\"%T_base_set.values[0])\n",
    "    arquivo.write(\"\\nTemperatura de onset: %f °C\" %Tonset)\n",
    "    arquivo.write(\"\\nTemperatura de pico: %f °C\" %Tpico)\n",
    "    arquivo.write(\"\\nTemperatura de endset: %f °C\" %Tendset)\n",
    "    arquivo.write(\"\\nTemperatura final: %f °C\\n\"%T_base_endset.values[0])"
   ]
  },
  {
   "cell_type": "markdown",
   "metadata": {},
   "source": [
    "DSC x Tempo"
   ]
  },
  {
   "cell_type": "code",
   "execution_count": null,
   "metadata": {},
   "outputs": [],
   "source": [
    "plt.plot(df[\"Time(s)\"],df[\"Dif\"], label=\"Dados do Aquecimento\",color=\"red\")\n",
    "plt.xlabel(\"Tempo (s)\")\n",
    "plt.ylabel(\"Diferença de fluxo (µV)\")\n",
    "plt.title(\"Diferença de fluxo entre amostra e referência em função da temperatura\")\n",
    "\n",
    "fig=plt.gcf()\n",
    "\n",
    "plt.show()\n",
    "\n",
    "fig.savefig(\"Outputs/Diferença de Fluxo entre a baseline e a amostra\")\n",
    "plt.close(fig)\n"
   ]
  },
  {
   "cell_type": "markdown",
   "metadata": {},
   "source": [
    "Cálculo da Entalpia"
   ]
  },
  {
   "cell_type": "code",
   "execution_count": null,
   "metadata": {},
   "outputs": [],
   "source": [
    "area=sum(f.integral(df[\"Time(s)\"],df[\"Dif\"]))\n",
    "\n",
    "#Parâmetros a serem corrigidos a depender da calibração do equipamento e da amostra\n",
    "K=248\n",
    "\n",
    "m=30.2*10**(-3)\n",
    "\n",
    "H=area/(m*K)\n",
    "\n",
    "with open(\"Outputs/Dados Coletados - Chumbo.txt\", \"a\", encoding='utf-8') as arquivo:\n",
    "    arquivo.write(\"Entalpia da reação: %f J/g\\n\"%H)"
   ]
  }
 ],
 "metadata": {
  "kernelspec": {
   "display_name": "Python 3",
   "language": "python",
   "name": "python3"
  },
  "language_info": {
   "codemirror_mode": {
    "name": "ipython",
    "version": 3
   },
   "file_extension": ".py",
   "mimetype": "text/x-python",
   "name": "python",
   "nbconvert_exporter": "python",
   "pygments_lexer": "ipython3",
   "version": "3.12.4"
  }
 },
 "nbformat": 4,
 "nbformat_minor": 2
}
